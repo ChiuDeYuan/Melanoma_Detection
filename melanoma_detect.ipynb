{
  "nbformat": 4,
  "nbformat_minor": 0,
  "metadata": {
    "colab": {
      "provenance": [],
      "collapsed_sections": [
        "8TkcbcXgSqQp"
      ],
      "authorship_tag": "ABX9TyOfjlSOnr8Gku+UFiyCCA3q",
      "include_colab_link": true
    },
    "kernelspec": {
      "name": "python3",
      "display_name": "Python 3"
    },
    "language_info": {
      "name": "python"
    }
  },
  "cells": [
    {
      "cell_type": "markdown",
      "metadata": {
        "id": "view-in-github",
        "colab_type": "text"
      },
      "source": [
        "<a href=\"https://colab.research.google.com/github/ChiuDeYuan/Melanoma_Detection/blob/main/melanoma_detect.ipynb\" target=\"_parent\"><img src=\"https://colab.research.google.com/assets/colab-badge.svg\" alt=\"Open In Colab\"/></a>"
      ]
    },
    {
      "cell_type": "markdown",
      "source": [
        "# 使用說明\n",
        "1. 依指示上傳黑痣照片\n",
        "2. 依次執行儲存格\n",
        "3. 察看結果"
      ],
      "metadata": {
        "id": "gmY8JYfoR6o-"
      }
    },
    {
      "cell_type": "markdown",
      "source": [
        "## ⬇️執行以上傳檔案 (限jpg, png)"
      ],
      "metadata": {
        "id": "0_UJl_0Jqi0a"
      }
    },
    {
      "cell_type": "code",
      "source": [
        "from IPython.display import Image, display\n",
        "from google.colab import files\n",
        "uploaded = files.upload()\n",
        "\n",
        "try:\n",
        "    for filename in uploaded.keys():\n",
        "        display(Image(filename, height=400))\n",
        "except:\n",
        "    print(\"請上傳jpg或png檔\")"
      ],
      "metadata": {
        "id": "vXZu0lJ5lLA2"
      },
      "execution_count": null,
      "outputs": []
    },
    {
      "cell_type": "markdown",
      "source": [
        "## ⬇️執行以偵測黑色素瘤 (需要等待)\n",
        "有時跳出警告訊息是正常的\n"
      ],
      "metadata": {
        "id": "8TkcbcXgSqQp"
      }
    },
    {
      "cell_type": "code",
      "source": [
        "!wget https://github.com/ChiuDeYuan/Melanoma_Detection/raw/refs/heads/main/melanoma_mobilevit_xxs_float32.h5"
      ],
      "metadata": {
        "id": "XNp-zRWxj08w"
      },
      "execution_count": null,
      "outputs": []
    },
    {
      "cell_type": "code",
      "source": [
        "!pip install tensorflow==2.10.1"
      ],
      "metadata": {
        "id": "U7ig-euHjEhA"
      },
      "execution_count": null,
      "outputs": []
    },
    {
      "cell_type": "code",
      "execution_count": null,
      "metadata": {
        "id": "mTUrzsqOR2Fm"
      },
      "outputs": [],
      "source": [
        "import tensorflow as tf\n",
        "from tensorflow.keras.preprocessing import image\n",
        "import numpy as np"
      ]
    },
    {
      "cell_type": "code",
      "source": [
        "print(tf.__version__)"
      ],
      "metadata": {
        "id": "ro6kfvx6ZylU"
      },
      "execution_count": null,
      "outputs": []
    },
    {
      "cell_type": "code",
      "source": [
        "model_path = \"/content/melanoma_mobilevit_xxs_float32.h5\""
      ],
      "metadata": {
        "id": "7IJdAcuXkJ4o"
      },
      "execution_count": null,
      "outputs": []
    },
    {
      "cell_type": "code",
      "source": [
        "model = tf.keras.models.load_model(model_path)"
      ],
      "metadata": {
        "id": "nm7UnAwOTUdr"
      },
      "execution_count": null,
      "outputs": []
    },
    {
      "cell_type": "code",
      "source": [
        "for filename in uploaded.keys():\n",
        "    img = image.load_img('/content/'+filename, target_size=(256, 256))\n",
        "img_array = image.img_to_array(img)\n",
        "img_array = np.expand_dims(img_array, axis=0)"
      ],
      "metadata": {
        "id": "FNPTu8KUp0J-"
      },
      "execution_count": null,
      "outputs": []
    },
    {
      "cell_type": "code",
      "source": [
        "predictions = model.predict(img_array)"
      ],
      "metadata": {
        "id": "Qj_-Sxssn0uj"
      },
      "execution_count": null,
      "outputs": []
    },
    {
      "cell_type": "code",
      "source": [
        "result = {\"benign\":predictions[0][0], 'malignant':predictions[0][1]}\n",
        "result = sorted(result.items(), reverse=True)"
      ],
      "metadata": {
        "id": "e8Rbs1eK1AlV"
      },
      "execution_count": null,
      "outputs": []
    },
    {
      "cell_type": "markdown",
      "source": [
        "## ⬇️顯示預測結果\n",
        "Result為預測結果<br>\n",
        "Confidence為此結果的可信度，越趨近0%代表模型只是在亂猜"
      ],
      "metadata": {
        "id": "tCZa7Tn7rHlY"
      }
    },
    {
      "cell_type": "code",
      "source": [
        "print(f\"Result: {result[0][0]}\")\n",
        "print(f\"Confidence: {round((result[0][1]-0.5)*200, 2)}%\")"
      ],
      "metadata": {
        "id": "LTyOJS-E1aVG"
      },
      "execution_count": null,
      "outputs": []
    }
  ]
}