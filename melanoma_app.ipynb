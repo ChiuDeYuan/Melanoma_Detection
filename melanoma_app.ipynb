{
  "nbformat": 4,
  "nbformat_minor": 0,
  "metadata": {
    "colab": {
      "provenance": [],
      "authorship_tag": "ABX9TyOHVAL7iGiut0NGaG3ZlR8J",
      "include_colab_link": true
    },
    "kernelspec": {
      "name": "python3",
      "display_name": "Python 3"
    },
    "language_info": {
      "name": "python"
    }
  },
  "cells": [
    {
      "cell_type": "markdown",
      "metadata": {
        "id": "view-in-github",
        "colab_type": "text"
      },
      "source": [
        "<a href=\"https://colab.research.google.com/github/ChiuDeYuan/Melanoma_Detection/blob/main/melanoma_app.ipynb\" target=\"_parent\"><img src=\"https://colab.research.google.com/assets/colab-badge.svg\" alt=\"Open In Colab\"/></a>"
      ]
    },
    {
      "cell_type": "markdown",
      "source": [
        "# Instrction\n",
        "1. Run the first code cell and upload a photo of the mole.\n",
        "2. Run the rest of code cells in turn.\n",
        "3. Wait for te result."
      ],
      "metadata": {
        "id": "gmY8JYfoR6o-"
      }
    },
    {
      "cell_type": "markdown",
      "source": [
        "## ⬇️Run to upload the file (.jpg or .png only)"
      ],
      "metadata": {
        "id": "0_UJl_0Jqi0a"
      }
    },
    {
      "cell_type": "code",
      "source": [
        "from IPython.display import Image, display\n",
        "from google.colab import files\n",
        "uploaded = files.upload()\n",
        "\n",
        "try:\n",
        "    for filename in uploaded.keys():\n",
        "        display(Image(filename, height=400))\n",
        "except:\n",
        "    print(\"請上傳jpg或png檔\")"
      ],
      "metadata": {
        "id": "vXZu0lJ5lLA2"
      },
      "execution_count": null,
      "outputs": []
    },
    {
      "cell_type": "markdown",
      "source": [
        "## ⬇️Run to detect Melanoma (need to wait)\n"
      ],
      "metadata": {
        "id": "8TkcbcXgSqQp"
      }
    },
    {
      "cell_type": "code",
      "source": [
        "!wget https://github.com/ChiuDeYuan/Melanoma_Detection/raw/refs/heads/main/melanoma_mobilevit_xxs_float32.h5"
      ],
      "metadata": {
        "id": "XNp-zRWxj08w"
      },
      "execution_count": null,
      "outputs": []
    },
    {
      "cell_type": "code",
      "source": [
        "!pip install tensorflow==2.10.1"
      ],
      "metadata": {
        "id": "U7ig-euHjEhA"
      },
      "execution_count": null,
      "outputs": []
    },
    {
      "cell_type": "code",
      "execution_count": null,
      "metadata": {
        "id": "mTUrzsqOR2Fm"
      },
      "outputs": [],
      "source": [
        "import tensorflow as tf\n",
        "from tensorflow.keras.preprocessing import image\n",
        "import numpy as np"
      ]
    },
    {
      "cell_type": "code",
      "source": [
        "print(tf.__version__)"
      ],
      "metadata": {
        "id": "ro6kfvx6ZylU"
      },
      "execution_count": null,
      "outputs": []
    },
    {
      "cell_type": "code",
      "source": [
        "model_path = \"/content/melanoma_mobilevit_xxs_float32.h5\""
      ],
      "metadata": {
        "id": "7IJdAcuXkJ4o"
      },
      "execution_count": null,
      "outputs": []
    },
    {
      "cell_type": "code",
      "source": [
        "model = tf.keras.models.load_model(model_path)"
      ],
      "metadata": {
        "id": "nm7UnAwOTUdr"
      },
      "execution_count": null,
      "outputs": []
    },
    {
      "cell_type": "code",
      "source": [
        "for filename in uploaded.keys():\n",
        "    img = image.load_img('/content/'+filename, target_size=(256, 256))\n",
        "img_array = image.img_to_array(img)\n",
        "img_array = np.expand_dims(img_array, axis=0)"
      ],
      "metadata": {
        "id": "FNPTu8KUp0J-"
      },
      "execution_count": null,
      "outputs": []
    },
    {
      "cell_type": "code",
      "source": [
        "predictions = model.predict(img_array)"
      ],
      "metadata": {
        "id": "Qj_-Sxssn0uj"
      },
      "execution_count": null,
      "outputs": []
    },
    {
      "cell_type": "markdown",
      "source": [
        "## ⬇️Show the result"
      ],
      "metadata": {
        "id": "tCZa7Tn7rHlY"
      }
    },
    {
      "cell_type": "code",
      "source": [
        "print(\"良性機率:\", predictions[0][0])\n",
        "print(\"惡性機率:\", predictions[0][1])"
      ],
      "metadata": {
        "id": "tAhPlIpBqEzK"
      },
      "execution_count": null,
      "outputs": []
    },
    {
      "cell_type": "markdown",
      "source": [
        "# Notice\n",
        "The result predicted by the model is for reference only.<br>\n",
        "Seek professional medical assistance if you need it."
      ],
      "metadata": {
        "id": "uKGJ5mVTf3QD"
      }
    }
  ]
}